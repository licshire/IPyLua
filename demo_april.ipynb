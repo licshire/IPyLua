{
 "metadata": {
  "language": "lua",
  "name": "",
  "signature": "sha256:edc5ddc2b024427cce7f2f8346c9ba5a94863018986d0b929c8245ac86083c4e"
 },
 "nbformat": 3,
 "nbformat_minor": 0,
 "worksheets": [
  {
   "cells": [
    {
     "cell_type": "code",
     "collapsed": false,
     "input": [
      "require \"aprilann\"\n",
      "PATH = \"/home/experimentos/KAGGLE/EPILEPSY_PREDICTION/FFT_60s_30s_BFPLOS/\"\n",
      "function adjust_cols_range(x)\n",
      "    local x = x:clone()\n",
      "    for _,w in matrix.ext.iterate(x,2) do w:adjust_range(0,1) end\n",
      "    return x\n",
      "end"
     ],
     "language": "python",
     "metadata": {},
     "outputs": [],
     "prompt_number": 1
    },
    {
     "cell_type": "code",
     "collapsed": false,
     "input": [
      "local x = matrix.fromTabFilename(PATH..\"Dog_2_test_segment_0462.channel_01.csv.gz\")\n",
      "local y = Image( adjust_cols_range(x) )\n",
      "local w,h = y:geometry()\n",
      "show(y)"
     ],
     "language": "python",
     "metadata": {},
     "outputs": [
      {
       "metadata": {
        "png": {
         "height": 19,
         "width": 6
        }
       },
       "output_type": "pyout",
       "png": "[encoded data removed]",
       "prompt_number": 8,
       "text": [
        "# ImageRGB 6x19+0+0 [0x21655e0 data= 0x1f655a0]"
       ]
      }
     ],
     "prompt_number": 8
    },
    {
     "cell_type": "code",
     "collapsed": false,
     "input": [
      "local x = matrix.fromFilename(\"/home/experimentos/PICUDO/FB_24_MAT/eating_upv_06.mat.gz\")\n",
      "local x_img = Image( adjust_cols_range(x) )\n",
      "local w,h = x_img:geometry()\n",
      "show(x_img:crop(w,math.floor(h/50),0,0))"
     ],
     "language": "python",
     "metadata": {},
     "outputs": [
      {
       "metadata": {
        "png": {
         "height": 52,
         "width": 28
        }
       },
       "output_type": "pyout",
       "png": "[encoded data removed]",
       "prompt_number": 9,
       "text": [
        "# ImageRGB 28x52+0+0 [0x2140b10 data= 0x1f67d20]"
       ]
      }
     ],
     "prompt_number": 9
    }
   ],
   "metadata": {}
  }
 ]
}