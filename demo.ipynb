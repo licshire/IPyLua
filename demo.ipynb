{
 "metadata": {
  "language": "lua",
  "name": "",
  "signature": "sha256:e739b87167cec2e860514d40d06e681f6bcadb10d5b6878158a2e08aca716d89"
 },
 "nbformat": 3,
 "nbformat_minor": 0,
 "worksheets": [
  {
   "cells": [
    {
     "cell_type": "heading",
     "level": 1,
     "metadata": {},
     "source": [
      "Demo for IPyLua"
     ]
    },
    {
     "cell_type": "markdown",
     "metadata": {},
     "source": [
      "You can declare multi-line functions using the Notebook or the qtconsole with ctrl+intro."
     ]
    },
    {
     "cell_type": "code",
     "collapsed": false,
     "input": [
      "function fib(n)\n",
      "  if n <= 2 then return 1 end\n",
      "  return fib(n-1) + fib(n-2)\n",
      "end"
     ],
     "language": "python",
     "metadata": {},
     "outputs": [],
     "prompt_number": 1
    },
    {
     "cell_type": "code",
     "collapsed": false,
     "input": [
      "for i=1,10 do print(\"fib(\"..i..\") =\",fib(i)) end"
     ],
     "language": "python",
     "metadata": {},
     "outputs": [
      {
       "metadata": {},
       "output_type": "pyout",
       "prompt_number": 2,
       "text": [
        "fib(1) =\t1\n"
       ]
      },
      {
       "metadata": {},
       "output_type": "pyout",
       "prompt_number": 2,
       "text": [
        "fib(2) =\t1\n"
       ]
      },
      {
       "metadata": {},
       "output_type": "pyout",
       "prompt_number": 2,
       "text": [
        "fib(3) =\t2\n"
       ]
      },
      {
       "metadata": {},
       "output_type": "pyout",
       "prompt_number": 2,
       "text": [
        "fib(4) =\t3\n"
       ]
      },
      {
       "metadata": {},
       "output_type": "pyout",
       "prompt_number": 2,
       "text": [
        "fib(5) =\t5\n"
       ]
      },
      {
       "metadata": {},
       "output_type": "pyout",
       "prompt_number": 2,
       "text": [
        "fib(6) =\t8\n"
       ]
      },
      {
       "metadata": {},
       "output_type": "pyout",
       "prompt_number": 2,
       "text": [
        "fib(7) =\t13\n"
       ]
      },
      {
       "metadata": {},
       "output_type": "pyout",
       "prompt_number": 2,
       "text": [
        "fib(8) =\t21\n"
       ]
      },
      {
       "metadata": {},
       "output_type": "pyout",
       "prompt_number": 2,
       "text": [
        "fib(9) =\t34\n"
       ]
      },
      {
       "metadata": {},
       "output_type": "pyout",
       "prompt_number": 2,
       "text": [
        "fib(10) =\t55\n"
       ]
      }
     ],
     "prompt_number": 2
    },
    {
     "cell_type": "markdown",
     "metadata": {},
     "source": [
      "It is possible to declare tables as usual."
     ]
    },
    {
     "cell_type": "code",
     "collapsed": false,
     "input": [
      "tbl = {\n",
      "  a = 1,\n",
      "  b = 2,\n",
      "  \"Hello\", \"World\", \"!\"\n",
      "}"
     ],
     "language": "python",
     "metadata": {},
     "outputs": [],
     "prompt_number": 3
    },
    {
     "cell_type": "markdown",
     "metadata": {},
     "source": [
      "And the table can be shown as usual or using the fancy `show()` command."
     ]
    },
    {
     "cell_type": "code",
     "collapsed": false,
     "input": [
      "print(tbl)\n",
      "show(tbl)"
     ],
     "language": "python",
     "metadata": {},
     "outputs": [
      {
       "metadata": {},
       "output_type": "pyout",
       "prompt_number": 4,
       "text": [
        "table: 0x257cbb0\n"
       ]
      },
      {
       "html": [
        "<pre id=\"ipylua_static_code\">{\n",
        "\t[1] = \"Hello\",\n",
        "\t[2] = \"World\",\n",
        "\t[3] = \"!\",\n",
        "\t[\"a\"] = 1,\n",
        "\t[\"b\"] = 2,\n",
        "}\n",
        "-- table: 0x257cbb0 with 3 array part, 2 hash part</pre>"
       ],
       "metadata": {},
       "output_type": "pyout",
       "prompt_number": 4,
       "text": [
        "{\n",
        "\t[1] = \"Hello\",\n",
        "\t[2] = \"World\",\n",
        "\t[3] = \"!\",\n",
        "\t[\"a\"] = 1,\n",
        "\t[\"b\"] = 2,\n",
        "}\n",
        "-- table: 0x257cbb0 with 3 array part, 2 hash part\n"
       ]
      }
     ],
     "prompt_number": 4
    },
    {
     "cell_type": "markdown",
     "metadata": {},
     "source": [
      "You can even show multiple objects by columns because `show()` accepts a variable number of arguments."
     ]
    },
    {
     "cell_type": "code",
     "collapsed": false,
     "input": [
      "show(tbl, {1,2,3,4})"
     ],
     "language": "python",
     "metadata": {},
     "outputs": [
      {
       "html": [
        "<div><div style=\"float:left;margin:4px;\"><pre id=\"ipylua_static_code\">{\n",
        "\t[1] = \"Hello\",\n",
        "\t[2] = \"World\",\n",
        "\t[3] = \"!\",\n",
        "\t[\"a\"] = 1,\n",
        "\t[\"b\"] = 2,\n",
        "}\n",
        "-- table: 0x257cbb0 with 3 array part, 2 hash part</pre></div><div style=\"float:left;margin:4px;\"><pre id=\"ipylua_static_code\">{\n",
        "\t[1] = 1,\n",
        "\t[2] = 2,\n",
        "\t[3] = 3,\n",
        "\t[4] = 4,\n",
        "}\n",
        "-- table: 0x25a38f0 with 4 array part, 0 hash part</pre></div></div>"
       ],
       "metadata": {},
       "output_type": "pyout",
       "prompt_number": 5,
       "text": [
        "table: 0x257cbb0\ttable: 0x25a38f0\n"
       ]
      }
     ],
     "prompt_number": 5
    },
    {
     "cell_type": "markdown",
     "metadata": {},
     "source": [
      "The function `vars()` allow shows all the variables declared by the user (global variables)."
     ]
    },
    {
     "cell_type": "code",
     "collapsed": false,
     "input": [
      "vars()"
     ],
     "language": "python",
     "metadata": {},
     "outputs": [
      {
       "html": [
        "<pre id=\"ipylua_static_code\">{\n",
        "\t[\"fib\"] = function: 0x25a5a90,\n",
        "\t[\"tbl\"] = table: 0x257cbb0,\n",
        "}\n",
        "-- table: 0x258a490 with 0 array part, 2 hash part</pre>"
       ],
       "metadata": {},
       "output_type": "pyout",
       "prompt_number": 6,
       "text": [
        "{\n",
        "\t[\"fib\"] = function: 0x25a5a90,\n",
        "\t[\"tbl\"] = table: 0x257cbb0,\n",
        "}\n",
        "-- table: 0x258a490 with 0 array part, 2 hash part\n"
       ]
      }
     ],
     "prompt_number": 6
    },
    {
     "cell_type": "markdown",
     "metadata": {},
     "source": [
      "APRIL-ANN, a toolkit for pattern recognition tasks, has been connected with IPyLua and it is possible to show matrices, images and plots."
     ]
    },
    {
     "cell_type": "code",
     "collapsed": false,
     "input": [
      "require \"aprilann\"\n",
      "x = matrix(300,300):linspace(0,0.5)\n",
      "x = x + x:t()\n",
      "x_img = Image(x)\n",
      "show(x_img, x)"
     ],
     "language": "python",
     "metadata": {},
     "outputs": [
      {
       "html": [
        "<div><div style=\"float:left;margin:4px;\"><img src=\"data:image/png;base64,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\"></div><div style=\"float:left;margin:4px;\"><pre> 0             0.00167224    0.00334448    0.00501672   ...  0.5         \n",
        " 0.00167224    0.00334448    0.00501672    0.00668896   ...  0.501672    \n",
        " 0.00334448    0.00501672    0.00668896    0.0083612    ...  0.503344    \n",
        " 0.00501672    0.00668896    0.0083612     0.0100334    ...  0.505017    \n",
        " 0.00668896    0.0083612     0.0100334     0.0117057    ...  0.506689    \n",
        "...\n",
        " 0.5           0.501672      0.503344      0.505017     ...  1           \n",
        "# Matrix of size [300,300] stride [300,1] ref [0x255a380 data= 0x255a450]\n",
        "</pre></div></div>"
       ],
       "metadata": {},
       "output_type": "pyout",
       "prompt_number": 7,
       "text": [
        "# Image 300x300+0+0 [0x2885880 data= 0x2885950]\tuserdata\n"
       ]
      }
     ],
     "prompt_number": 7
    },
    {
     "cell_type": "markdown",
     "metadata": {},
     "source": [
      "Finally, it is possible to perform basic plots (currently: points, bars, lines, hist2d). Plots receive several series, which can be plain Lua tables (with numeric indices or array tables) or APRIL-ANN matrices."
     ]
    },
    {
     "cell_type": "code",
     "collapsed": false,
     "input": [
      "local x = matrix(120,1):linspace(-10,10)\n",
      "local y = stats.dist.normal(0,2):logpdf(x):exp()\n",
      "local fig = bokeh.figure{ width=600, height=500 }\n",
      "-- bars using Lua arrays\n",
      "fig:bars{ x=0, y=0.1, height=0.2, width=2, alpha=0.3 }\n",
      "-- bars with APRIL-ANN matrix\n",
      "fig:bars{ x=x, height=y, y = y/2, width=0.01, color=f:color_num(1), alpha=0.3 }\n",
      "-- lines with APRIL-ANN matrix\n",
      "fig:lines{ x=x, y=y, width=3, color=f:color_num(1), alpha=0.3, legend=\"Normal\" }\n",
      "-- points with APRIL-ANN matrix\n",
      "fig:points{ x=x, y=y, color=f:color_num(1) }\n",
      "show(fig)"
     ],
     "language": "python",
     "metadata": {},
     "outputs": [
      {
       "html": [
        "<script\n",
        "    id=\"fc93bc50-9489-46e6-c6c5-92d08c908a9d\"\n",
        "    data-bokeh-data=\"static\"\n",
        "    data-bokeh-modelid=\"ec77d546-faf0-446b-c42a-296ee9cc8557\"\n",
        "    data-bokeh-modeltype=\"Plot\"\n",
        "    data-bokeh-loglevel=\"info\"\n",
        ">\n",
        "(function(global) {\n",
        "  if (typeof (window._bokeh_onload_callbacks) === \"undefined\"){\n",
        "    window._bokeh_onload_callbacks = [];\n",
        "  }\n",
        "  function load_lib(url, callback){\n",
        "    window._bokeh_onload_callbacks.push(callback);\n",
        "    if (window._bokeh_is_loading){\n",
        "      console.log(\"Bokeh: BokehJS is being loaded, scheduling callback at\", new Date());\n",
        "      return null;\n",
        "    }\n",
        "    console.log(\"Bokeh: BokehJS not loaded, scheduling load and callback at\", new Date());\n",
        "    window._bokeh_is_loading = true;\n",
        "    var s = document.createElement('script');\n",
        "    s.src = url;\n",
        "    s.async = true;\n",
        "    s.onreadystatechange = s.onload = function(){\n",
        "      Bokeh.embed.inject_css(\"http://cdn.pydata.org/bokeh/release/bokeh-0.10.0.min.css\");\n",
        "      window._bokeh_onload_callbacks.forEach(function(callback){callback()});\n",
        "    };\n",
        "    s.onerror = function(){\n",
        "      console.warn(\"failed to load library \" + url);\n",
        "    };\n",
        "    document.getElementsByTagName(\"head\")[0].appendChild(s);\n",
        "  }\n",
        "\n",
        "  bokehjs_url = \"http://cdn.pydata.org/bokeh/release/bokeh-0.10.0.js\"\n",
        "\n",
        "  var elt = document.getElementById(\"fc93bc50-9489-46e6-c6c5-92d08c908a9d\");\n",
        "  if(elt==null) {\n",
        "    console.log(\"Bokeh: ERROR: autoload.js configured with elementid 'fc93bc50-9489-46e6-c6c5-92d08c908a9d' but no matching script tag was found. \")\n",
        "    return false;\n",
        "  }\n",
        "\n",
        "  // These will be set for the static case\n",
        "  var all_models = [{\"attributes\":{\"y_range\":{\"id\":\"ddca7c71-53b3-470c-c7e9-dd057a68a389\",\"type\":\"Range1d\"},\"responsive\":false,\"tags\":[],\"extra_x_ranges\":[],\"title_text_font_style\":\"bold\",\"x_range\":{\"id\":\"0f039f0a-3867-4464-c4a6-a6e82f490d2c\",\"type\":\"Range1d\"},\"above\":[],\"tool_events\":{\"id\":\"4813ac82-6388-4c62-cccb-4965d94333c5\",\"type\":\"ToolEvents\"},\"extra_y_ranges\":[],\"id\":\"ec77d546-faf0-446b-c42a-296ee9cc8557\",\"right\":[],\"plot_width\":600,\"plot_height\":500,\"left\":[{\"id\":\"b90fecd0-69a6-47cb-c79d-794cf8485c4e\",\"type\":\"LinearAxis\"}],\"below\":[{\"id\":\"02da85d2-f51e-4adb-ca07-dbdd4b7a0521\",\"type\":\"LinearAxis\"}],\"title_text_font_size\":{\"value\":\"12pt\"},\"tools\":[{\"id\":\"bb090bb6-f91f-41dd-c14b-4b3318d18b60\",\"type\":\"PanTool\"},{\"id\":\"e437e348-bfaf-4a65-caf3-ca5437fe1af2\",\"type\":\"WheelZoomTool\"},{\"id\":\"0725a901-45ca-4f8f-cf2b-c32efd4e8fe2\",\"type\":\"BoxZoomTool\"},{\"id\":\"86722a46-22d4-4b9d-cb75-f2fe730cf17b\",\"type\":\"ResizeTool\"},{\"id\":\"329a7d77-655c-477b-c7ca-aa851939679f\",\"type\":\"ResetTool\"},{\"id\":\"ab91e6cd-6591-4b2c-cb5d-2b7a6a1df69c\",\"type\":\"PreviewSaveTool\"}],\"renderers\":[{\"id\":\"fffb5c16-5dc4-441d-c4cc-47085b0d715d\",\"type\":\"Grid\"},{\"id\":\"02da85d2-f51e-4adb-ca07-dbdd4b7a0521\",\"type\":\"LinearAxis\"},{\"id\":\"74830264-ddd3-4c05-ccfd-8711c066207a\",\"type\":\"Grid\"},{\"id\":\"b90fecd0-69a6-47cb-c79d-794cf8485c4e\",\"type\":\"LinearAxis\"},{\"id\":\"7776422a-09ed-4938-c954-607eedd66008\",\"type\":\"GlyphRenderer\"},{\"id\":\"9d924538-931a-4519-c503-8dc36e63c550\",\"type\":\"GlyphRenderer\"},{\"id\":\"f8bc102d-1ba7-4cfd-cc52-3af7381fb8b0\",\"type\":\"GlyphRenderer\"},{\"id\":\"4ab1bb90-70e0-4f33-cf51-64a859e63852\",\"type\":\"Legend\"},{\"id\":\"107e7801-fa35-47ca-c785-d141fb89a224\",\"type\":\"GlyphRenderer\"}]},\"type\":\"Plot\",\"id\":\"ec77d546-faf0-446b-c42a-296ee9cc8557\"},{\"attributes\":{\"geometries\":[],\"id\":\"4813ac82-6388-4c62-cccb-4965d94333c5\",\"doc\":null,\"tags\":[]},\"type\":\"ToolEvents\",\"id\":\"4813ac82-6388-4c62-cccb-4965d94333c5\"},{\"attributes\":{\"doc\":null,\"tags\":[],\"id\":\"bb090bb6-f91f-41dd-c14b-4b3318d18b60\",\"dimensions\":[\"width\",\"height\"],\"plot\":{\"subtype\":\"Chart\",\"type\":\"Plot\",\"id\":\"ec77d546-faf0-446b-c42a-296ee9cc8557\"}},\"type\":\"PanTool\",\"id\":\"bb090bb6-f91f-41dd-c14b-4b3318d18b60\"},{\"attributes\":{\"doc\":null,\"tags\":[],\"id\":\"e437e348-bfaf-4a65-caf3-ca5437fe1af2\",\"dimensions\":[\"width\",\"height\"],\"plot\":{\"subtype\":\"Chart\",\"type\":\"Plot\",\"id\":\"ec77d546-faf0-446b-c42a-296ee9cc8557\"}},\"type\":\"WheelZoomTool\",\"id\":\"e437e348-bfaf-4a65-caf3-ca5437fe1af2\"},{\"attributes\":{\"doc\":null,\"tags\":[],\"id\":\"0725a901-45ca-4f8f-cf2b-c32efd4e8fe2\",\"dimensions\":[\"width\",\"height\"],\"plot\":{\"subtype\":\"Chart\",\"type\":\"Plot\",\"id\":\"ec77d546-faf0-446b-c42a-296ee9cc8557\"}},\"type\":\"BoxZoomTool\",\"id\":\"0725a901-45ca-4f8f-cf2b-c32efd4e8fe2\"},{\"attributes\":{\"doc\":null,\"id\":\"86722a46-22d4-4b9d-cb75-f2fe730cf17b\",\"plot\":{\"subtype\":\"Chart\",\"type\":\"Plot\",\"id\":\"ec77d546-faf0-446b-c42a-296ee9cc8557\"},\"tags\":[]},\"type\":\"ResizeTool\",\"id\":\"86722a46-22d4-4b9d-cb75-f2fe730cf17b\"},{\"attributes\":{\"doc\":null,\"id\":\"329a7d77-655c-477b-c7ca-aa851939679f\",\"plot\":{\"subtype\":\"Chart\",\"type\":\"Plot\",\"id\":\"ec77d546-faf0-446b-c42a-296ee9cc8557\"},\"tags\":[]},\"type\":\"ResetTool\",\"id\":\"329a7d77-655c-477b-c7ca-aa851939679f\"},{\"attributes\":{\"doc\":null,\"id\":\"ab91e6cd-6591-4b2c-cb5d-2b7a6a1df69c\",\"plot\":{\"subtype\":\"Chart\",\"type\":\"Plot\",\"id\":\"ec77d546-faf0-446b-c42a-296ee9cc8557\"},\"tags\":[]},\"type\":\"PreviewSaveTool\",\"id\":\"ab91e6cd-6591-4b2c-cb5d-2b7a6a1df69c\"},{\"attributes\":{\"doc\":null,\"id\":\"b773141d-d01b-4858-c842-ddff7c449f27\",\"tags\":[]},\"type\":\"BasicTickFormatter\",\"id\":\"b773141d-d01b-4858-c842-ddff7c449f27\"},{\"attributes\":{\"doc\":null,\"id\":\"d585f53a-1661-471d-c793-982ab08ec668\",\"mantissas\":[2,5,10],\"tags\":[]},\"type\":\"BasicTicker\",\"id\":\"d585f53a-1661-471d-c793-982ab08ec668\"},{\"attributes\":{\"doc\":null,\"ticker\":{\"id\":\"d585f53a-1661-471d-c793-982ab08ec668\",\"type\":\"BasicTicker\"},\"tags\":[],\"formatter\":{\"id\":\"b773141d-d01b-4858-c842-ddff7c449f27\",\"type\":\"BasicTickFormatter\"},\"id\":\"02da85d2-f51e-4adb-ca07-dbdd4b7a0521\",\"plot\":{\"subtype\":\"Chart\",\"type\":\"Plot\",\"id\":\"ec77d546-faf0-446b-c42a-296ee9cc8557\"}},\"type\":\"LinearAxis\",\"id\":\"02da85d2-f51e-4adb-ca07-dbdd4b7a0521\"},{\"attributes\":{\"doc\":null,\"tags\":[],\"id\":\"fffb5c16-5dc4-441d-c4cc-47085b0d715d\",\"dimension\":0,\"plot\":{\"subtype\":\"Chart\",\"type\":\"Plot\",\"id\":\"ec77d546-faf0-446b-c42a-296ee9cc8557\"},\"ticker\":{\"id\":\"d585f53a-1661-471d-c793-982ab08ec668\",\"type\":\"BasicTicker\"}},\"type\":\"Grid\",\"id\":\"fffb5c16-5dc4-441d-c4cc-47085b0d715d\"},{\"attributes\":{\"doc\":null,\"id\":\"e8f72fde-165a-4a77-ca95-55ad105acf10\",\"tags\":[]},\"type\":\"BasicTickFormatter\",\"id\":\"e8f72fde-165a-4a77-ca95-55ad105acf10\"},{\"attributes\":{\"doc\":null,\"id\":\"562b26b3-f05a-4148-c118-508225c2df0e\",\"mantissas\":[2,5,10],\"tags\":[]},\"type\":\"BasicTicker\",\"id\":\"562b26b3-f05a-4148-c118-508225c2df0e\"},{\"attributes\":{\"doc\":null,\"ticker\":{\"id\":\"562b26b3-f05a-4148-c118-508225c2df0e\",\"type\":\"BasicTicker\"},\"tags\":[],\"formatter\":{\"id\":\"e8f72fde-165a-4a77-ca95-55ad105acf10\",\"type\":\"BasicTickFormatter\"},\"id\":\"b90fecd0-69a6-47cb-c79d-794cf8485c4e\",\"plot\":{\"subtype\":\"Chart\",\"type\":\"Plot\",\"id\":\"ec77d546-faf0-446b-c42a-296ee9cc8557\"}},\"type\":\"LinearAxis\",\"id\":\"b90fecd0-69a6-47cb-c79d-794cf8485c4e\"},{\"attributes\":{\"doc\":null,\"tags\":[],\"id\":\"74830264-ddd3-4c05-ccfd-8711c066207a\",\"dimension\":1,\"plot\":{\"subtype\":\"Chart\",\"type\":\"Plot\",\"id\":\"ec77d546-faf0-446b-c42a-296ee9cc8557\"},\"ticker\":{\"id\":\"562b26b3-f05a-4148-c118-508225c2df0e\",\"type\":\"BasicTicker\"}},\"type\":\"Grid\",\"id\":\"74830264-ddd3-4c05-ccfd-8711c066207a\"},{\"attributes\":{\"doc\":null,\"selected\":{\"0d\":{\"flag\":false,\"indices\":[]},\"1d\":{\"indices\":[]},\"2d\":{\"indices\":[]}},\"tags\":[],\"data\":{\"width\":[2],\"color\":[\"#ff0000\"],\"y\":[0.1],\"x\":[0],\"fill_alpha\":[0.3],\"height\":[0.2]},\"column_names\":[\"x\",\"y\",\"width\",\"height\",\"fill_alpha\",\"color\"],\"id\":\"760c4adf-b392-4bef-cb24-3b276d9876e1\",\"callback\":null},\"type\":\"ColumnDataSource\",\"id\":\"760c4adf-b392-4bef-cb24-3b276d9876e1\"},{\"attributes\":{\"fill_color\":{\"field\":\"color\"},\"tags\":[],\"fill_alpha\":{\"field\":\"fill_alpha\"},\"id\":\"1b7846f9-4cf3-4e38-ce85-4ab1ec6a2c62\",\"doc\":null,\"y\":{\"field\":\"y\"},\"height\":{\"units\":\"data\",\"field\":\"height\"},\"x\":{\"field\":\"x\"},\"width\":{\"units\":\"data\",\"field\":\"width\"}},\"type\":\"Rect\",\"id\":\"1b7846f9-4cf3-4e38-ce85-4ab1ec6a2c62\"},{\"attributes\":{\"doc\":null,\"data_source\":{\"id\":\"760c4adf-b392-4bef-cb24-3b276d9876e1\",\"type\":\"ColumnDataSource\"},\"nonselection_glyph\":null,\"tags\":[],\"id\":\"7776422a-09ed-4938-c954-607eedd66008\",\"glyph\":{\"id\":\"1b7846f9-4cf3-4e38-ce85-4ab1ec6a2c62\",\"type\":\"Rect\"},\"selection_glyph\":null},\"type\":\"GlyphRenderer\",\"id\":\"7776422a-09ed-4938-c954-607eedd66008\"},{\"attributes\":{\"doc\":null,\"selected\":{\"0d\":{\"flag\":false,\"indices\":[]},\"1d\":{\"indices\":[]},\"2d\":{\"indices\":[]}},\"tags\":[],\"data\":{\"width\":[0.01,0.01,0.01,0.01,0.01,0.01,0.01,0.01,0.01,0.01,0.01,0.01,0.01,0.01,0.01,0.01,0.01,0.01,0.01,0.01,0.01,0.01,0.01,0.01,0.01,0.01,0.01,0.01,0.01,0.01,0.01,0.01,0.01,0.01,0.01,0.01,0.01,0.01,0.01,0.01,0.01,0.01,0.01,0.01,0.01,0.01,0.01,0.01,0.01,0.01,0.01,0.01,0.01,0.01,0.01,0.01,0.01,0.01,0.01,0.01,0.01,0.01,0.01,0.01,0.01,0.01,0.01,0.01,0.01,0.01,0.01,0.01,0.01,0.01,0.01,0.01,0.01,0.01,0.01,0.01,0.01,0.01,0.01,0.01,0.01,0.01,0.01,0.01,0.01,0.01,0.01,0.01,0.01,0.01,0.01,0.01,0.01,0.01,0.01,0.01,0.01,0.01,0.01,0.01,0.01,0.01,0.01,0.01,0.01,0.01,0.01,0.01,0.01,0.01,0.01,0.01,0.01,0.01,0.01,0.01],\"color\":[\"#ff0000\",\"#ff0000\",\"#ff0000\",\"#ff0000\",\"#ff0000\",\"#ff0000\",\"#ff0000\",\"#ff0000\",\"#ff0000\",\"#ff0000\",\"#ff0000\",\"#ff0000\",\"#ff0000\",\"#ff0000\",\"#ff0000\",\"#ff0000\",\"#ff0000\",\"#ff0000\",\"#ff0000\",\"#ff0000\",\"#ff0000\",\"#ff0000\",\"#ff0000\",\"#ff0000\",\"#ff0000\",\"#ff0000\",\"#ff0000\",\"#ff0000\",\"#ff0000\",\"#ff0000\",\"#ff0000\",\"#ff0000\",\"#ff0000\",\"#ff0000\",\"#ff0000\",\"#ff0000\",\"#ff0000\",\"#ff0000\",\"#ff0000\",\"#ff0000\",\"#ff0000\",\"#ff0000\",\"#ff0000\",\"#ff0000\",\"#ff0000\",\"#ff0000\",\"#ff0000\",\"#ff0000\",\"#ff0000\",\"#ff0000\",\"#ff0000\",\"#ff0000\",\"#ff0000\",\"#ff0000\",\"#ff0000\",\"#ff0000\",\"#ff0000\",\"#ff0000\",\"#ff0000\",\"#ff0000\",\"#ff0000\",\"#ff0000\",\"#ff0000\",\"#ff0000\",\"#ff0000\",\"#ff0000\",\"#ff0000\",\"#ff0000\",\"#ff0000\",\"#ff0000\",\"#ff0000\",\"#ff0000\",\"#ff0000\",\"#ff0000\",\"#ff0000\",\"#ff0000\",\"#ff0000\",\"#ff0000\",\"#ff0000\",\"#ff0000\",\"#ff0000\",\"#ff0000\",\"#ff0000\",\"#ff0000\",\"#ff0000\",\"#ff0000\",\"#ff0000\",\"#ff0000\",\"#ff0000\",\"#ff0000\",\"#ff0000\",\"#ff0000\",\"#ff0000\",\"#ff0000\",\"#ff0000\",\"#ff0000\",\"#ff0000\",\"#ff0000\",\"#ff0000\",\"#ff0000\",\"#ff0000\",\"#ff0000\",\"#ff0000\",\"#ff0000\",\"#ff0000\",\"#ff0000\",\"#ff0000\",\"#ff0000\",\"#ff0000\",\"#ff0000\",\"#ff0000\",\"#ff0000\",\"#ff0000\",\"#ff0000\",\"#ff0000\",\"#ff0000\",\"#ff0000\",\"#ff0000\",\"#ff0000\",\"#ff0000\"],\"y\":[1.9588575553287e-12,4.5070119511492e-12,1.0224524352176e-11,2.2869773783074e-11,5.0436706894308e-11,1.0967268065931e-10,2.3513535563069e-10,4.970519551506e-10,1.0359807456339e-09,2.1289650042888e-09,4.3137391436687e-09,8.617926816612e-09,1.6975345573655e-08,3.2968664243072e-08,6.3132141292499e-08,1.1919700426688e-07,2.2189435355813e-07,4.0728127714829e-07,7.3707064984774e-07,1.3151915254639e-06,2.3138509277487e-06,4.0137383621186e-06,6.8648146225314e-06,1.1576418728509e-05,1.9248038370279e-05,3.1554754968965e-05,5.1004684792133e-05,8.1286896602251e-05,0.00012773158960044,0.00019789823272731,0.00030230978154577,0.00045533222146332,0.0006761941476725,0.00099010288249701,0.0014294069260359,0.0020346858073026,0.002855654573068,0.0039516622200608,0.0053916377946734,0.0072531658224761,0.0096205789595842,0.012581739574671,0.016223592683673,0.02062620036304,0.025855801999569,0.031956776976585,0.038943454623222,0.046792037785053,0.055434014648199,0.064751029014587,0.074573278427124,0.084681048989296,0.094810351729393,0.10466255992651,0.11391825973988,0.12225359678268,0.12935893237591,0.13495761156082,0.13882404565811,0.14079861342907,0.14079861342907,0.13882404565811,0.13495761156082,0.12935893237591,0.12225359678268,0.11391825973988,0.10466255992651,0.094810351729393,0.084681048989296,0.074573278427124,0.064751029014587,0.055434014648199,0.046792037785053,0.038943454623222,0.031956799328327,0.025855783373117,0.02062620036304,0.016223592683673,0.012581751681864,0.0096205696463585,0.0072531658224761,0.0053916377946734,0.0039516664110124,0.0028556517791003,0.0020346858073026,0.0014294069260359,0.00099010381381959,0.00067619350738823,0.00045533222146332,0.00030230978154577,0.0001978985092137,0.00012773145863321,8.1286896602251e-05,5.1004684792133e-05,3.1554787710775e-05,1.9248020180385e-05,1.1576385077205e-05,6.8648146225314e-06,4.013731086161e-06,2.3138597953221e-06,1.3151915254639e-06,7.3706780767679e-07,4.0728204453444e-07,2.2189435355813e-07,1.1919654951953e-07,6.3132141292499e-08,3.2968600294225e-08,1.6975409522502e-08,8.617926816612e-09,4.313722712368e-09,2.1289729978946e-09,1.0359807456339e-09,4.9705006777145e-10,2.3513535563069e-10,1.0967268065931e-10,5.0436901183337e-11,2.2869773783074e-11,1.0224485320898e-11,4.5070379720014e-12,1.9588575553287e-12],\"x\":[-10,-9.8319330215454,-9.6638650894165,-9.4957981109619,-9.3277311325073,-9.1596641540527,-8.9915962219238,-8.8235292434692,-8.6554622650146,-8.4873952865601,-8.3193273544312,-8.1512603759766,-7.983193397522,-7.8151259422302,-7.6470584869385,-7.4789915084839,-7.3109245300293,-7.1428570747375,-6.9747896194458,-6.8067226409912,-6.6386556625366,-6.4705882072449,-6.3025207519531,-6.1344537734985,-5.9663863182068,-5.7983193397522,-5.6302518844604,-5.4621849060059,-5.2941174507141,-5.1260504722595,-4.9579830169678,-4.7899160385132,-4.6218485832214,-4.4537816047668,-4.2857141494751,-4.1176471710205,-3.9495797157288,-3.7815127372742,-3.6134452819824,-3.4453783035278,-3.2773108482361,-3.1092438697815,-2.9411764144897,-2.7731094360352,-2.6050419807434,-2.4369750022888,-2.2689075469971,-2.1008405685425,-1.9327726364136,-1.764705657959,-1.5966386795044,-1.4285717010498,-1.2605037689209,-1.0924367904663,-0.92436981201172,-0.75630283355713,-0.58823490142822,-0.42016792297363,-0.25210094451904,-0.084033966064453,0.084033966064453,0.25210094451904,0.42016792297363,0.58823490142822,0.75630283355713,0.92436981201172,1.0924367904663,1.2605037689209,1.4285717010498,1.5966386795044,1.764705657959,1.9327726364136,2.1008405685425,2.2689075469971,2.4369745254517,2.6050424575806,2.7731094360352,2.9411764144897,3.1092433929443,3.2773113250732,3.4453783035278,3.6134452819824,3.781512260437,3.9495801925659,4.1176471710205,4.2857141494751,4.4537811279297,4.6218490600586,4.7899160385132,4.9579830169678,5.1260499954224,5.2941179275513,5.4621849060059,5.6302518844604,5.798318862915,5.9663867950439,6.1344547271729,6.3025207519531,6.470588684082,6.6386547088623,6.8067226409912,6.9747905731201,7.1428565979004,7.3109245300293,7.4789924621582,7.6470584869385,7.8151264190674,7.9831924438477,8.1512603759766,8.3193283081055,8.4873943328857,8.6554622650146,8.8235301971436,8.9915962219238,9.1596641540527,9.327730178833,9.4957981109619,9.6638660430908,9.8319320678711,10],\"fill_alpha\":[0.3,0.3,0.3,0.3,0.3,0.3,0.3,0.3,0.3,0.3,0.3,0.3,0.3,0.3,0.3,0.3,0.3,0.3,0.3,0.3,0.3,0.3,0.3,0.3,0.3,0.3,0.3,0.3,0.3,0.3,0.3,0.3,0.3,0.3,0.3,0.3,0.3,0.3,0.3,0.3,0.3,0.3,0.3,0.3,0.3,0.3,0.3,0.3,0.3,0.3,0.3,0.3,0.3,0.3,0.3,0.3,0.3,0.3,0.3,0.3,0.3,0.3,0.3,0.3,0.3,0.3,0.3,0.3,0.3,0.3,0.3,0.3,0.3,0.3,0.3,0.3,0.3,0.3,0.3,0.3,0.3,0.3,0.3,0.3,0.3,0.3,0.3,0.3,0.3,0.3,0.3,0.3,0.3,0.3,0.3,0.3,0.3,0.3,0.3,0.3,0.3,0.3,0.3,0.3,0.3,0.3,0.3,0.3,0.3,0.3,0.3,0.3,0.3,0.3,0.3,0.3,0.3,0.3,0.3,0.3],\"height\":[3.9177151106573e-12,9.0140239022984e-12,2.0449048704352e-11,4.5739547566148e-11,1.0087341378862e-10,2.1934536131862e-10,4.7027071126138e-10,9.9410391030119e-10,2.0719614912679e-09,4.2579300085777e-09,8.6274782873375e-09,1.7235853633224e-08,3.3950691147311e-08,6.5937328486143e-08,1.26264282585e-07,2.3839400853376e-07,4.4378870711625e-07,8.1456255429657e-07,1.4741412996955e-06,2.6303830509278e-06,4.6277018554974e-06,8.0274767242372e-06,1.3729629245063e-05,2.3152837457019e-05,3.8496076740557e-05,6.3109509937931e-05,0.00010200936958427,0.0001625737932045,0.00025546317920089,0.00039579646545462,0.00060461956309155,0.00091066444292665,0.001352388295345,0.001980205764994,0.0028588138520718,0.0040693716146052,0.005711309146136,0.0079033244401217,0.010783275589347,0.014506331644952,0.019241157919168,0.025163479149342,0.032447185367346,0.04125240072608,0.051711603999138,0.063913553953171,0.077886909246445,0.093584075570107,0.1108680292964,0.12950205802917,0.14914655685425,0.16936209797859,0.18962070345879,0.20932511985302,0.22783651947975,0.24450719356537,0.25871786475182,0.26991522312164,0.27764809131622,0.28159722685814,0.28159722685814,0.27764809131622,0.26991522312164,0.25871786475182,0.24450719356537,0.22783651947975,0.20932511985302,0.18962070345879,0.16936209797859,0.14914655685425,0.12950205802917,0.1108680292964,0.093584075570107,0.077886909246445,0.063913598656654,0.051711566746235,0.04125240072608,0.032447185367346,0.025163503363729,0.019241139292717,0.014506331644952,0.010783275589347,0.0079033328220248,0.0057113035582006,0.0040693716146052,0.0028588138520718,0.0019802076276392,0.0013523870147765,0.00091066444292665,0.00060461956309155,0.0003957970184274,0.00025546291726641,0.0001625737932045,0.00010200936958427,6.3109575421549e-05,3.8496040360769e-05,2.3152770154411e-05,1.3729629245063e-05,8.027462172322e-06,4.6277195906441e-06,2.6303830509278e-06,1.4741356153536e-06,8.1456408906888e-07,4.4378870711625e-07,2.3839309903906e-07,1.26264282585e-07,6.5937200588451e-08,3.3950819045003e-08,1.7235853633224e-08,8.6274454247359e-09,4.2579459957892e-09,2.0719614912679e-09,9.9410013554291e-10,4.7027071126138e-10,2.1934536131862e-10,1.0087380236667e-10,4.5739547566148e-11,2.0448970641795e-11,9.0140759440027e-12,3.9177151106573e-12]},\"column_names\":[\"x\",\"y\",\"width\",\"height\",\"fill_alpha\",\"color\"],\"id\":\"4fa7029c-9b00-448c-c41f-3e738a6ad501\",\"callback\":null},\"type\":\"ColumnDataSource\",\"id\":\"4fa7029c-9b00-448c-c41f-3e738a6ad501\"},{\"attributes\":{\"fill_color\":{\"field\":\"color\"},\"tags\":[],\"fill_alpha\":{\"field\":\"fill_alpha\"},\"id\":\"e1182bea-0544-4316-c383-958659f68fa9\",\"doc\":null,\"y\":{\"field\":\"y\"},\"height\":{\"units\":\"data\",\"field\":\"height\"},\"x\":{\"field\":\"x\"},\"width\":{\"units\":\"data\",\"field\":\"width\"}},\"type\":\"Rect\",\"id\":\"e1182bea-0544-4316-c383-958659f68fa9\"},{\"attributes\":{\"doc\":null,\"data_source\":{\"id\":\"4fa7029c-9b00-448c-c41f-3e738a6ad501\",\"type\":\"ColumnDataSource\"},\"nonselection_glyph\":null,\"tags\":[],\"id\":\"9d924538-931a-4519-c503-8dc36e63c550\",\"glyph\":{\"id\":\"e1182bea-0544-4316-c383-958659f68fa9\",\"type\":\"Rect\"},\"selection_glyph\":null},\"type\":\"GlyphRenderer\",\"id\":\"9d924538-931a-4519-c503-8dc36e63c550\"},{\"attributes\":{\"doc\":null,\"selected\":{\"0d\":{\"flag\":false,\"indices\":[]},\"1d\":{\"indices\":[]},\"2d\":{\"indices\":[]}},\"tags\":[],\"data\":{\"y\":[3.9177151106573e-12,9.0140239022984e-12,2.0449048704352e-11,4.5739547566148e-11,1.0087341378862e-10,2.1934536131862e-10,4.7027071126138e-10,9.9410391030119e-10,2.0719614912679e-09,4.2579300085777e-09,8.6274782873375e-09,1.7235853633224e-08,3.3950691147311e-08,6.5937328486143e-08,1.26264282585e-07,2.3839400853376e-07,4.4378870711625e-07,8.1456255429657e-07,1.4741412996955e-06,2.6303830509278e-06,4.6277018554974e-06,8.0274767242372e-06,1.3729629245063e-05,2.3152837457019e-05,3.8496076740557e-05,6.3109509937931e-05,0.00010200936958427,0.0001625737932045,0.00025546317920089,0.00039579646545462,0.00060461956309155,0.00091066444292665,0.001352388295345,0.001980205764994,0.0028588138520718,0.0040693716146052,0.005711309146136,0.0079033244401217,0.010783275589347,0.014506331644952,0.019241157919168,0.025163479149342,0.032447185367346,0.04125240072608,0.051711603999138,0.063913553953171,0.077886909246445,0.093584075570107,0.1108680292964,0.12950205802917,0.14914655685425,0.16936209797859,0.18962070345879,0.20932511985302,0.22783651947975,0.24450719356537,0.25871786475182,0.26991522312164,0.27764809131622,0.28159722685814,0.28159722685814,0.27764809131622,0.26991522312164,0.25871786475182,0.24450719356537,0.22783651947975,0.20932511985302,0.18962070345879,0.16936209797859,0.14914655685425,0.12950205802917,0.1108680292964,0.093584075570107,0.077886909246445,0.063913598656654,0.051711566746235,0.04125240072608,0.032447185367346,0.025163503363729,0.019241139292717,0.014506331644952,0.010783275589347,0.0079033328220248,0.0057113035582006,0.0040693716146052,0.0028588138520718,0.0019802076276392,0.0013523870147765,0.00091066444292665,0.00060461956309155,0.0003957970184274,0.00025546291726641,0.0001625737932045,0.00010200936958427,6.3109575421549e-05,3.8496040360769e-05,2.3152770154411e-05,1.3729629245063e-05,8.027462172322e-06,4.6277195906441e-06,2.6303830509278e-06,1.4741356153536e-06,8.1456408906888e-07,4.4378870711625e-07,2.3839309903906e-07,1.26264282585e-07,6.5937200588451e-08,3.3950819045003e-08,1.7235853633224e-08,8.6274454247359e-09,4.2579459957892e-09,2.0719614912679e-09,9.9410013554291e-10,4.7027071126138e-10,2.1934536131862e-10,1.0087380236667e-10,4.5739547566148e-11,2.0448970641795e-11,9.0140759440027e-12,3.9177151106573e-12],\"x\":[-10,-9.8319330215454,-9.6638650894165,-9.4957981109619,-9.3277311325073,-9.1596641540527,-8.9915962219238,-8.8235292434692,-8.6554622650146,-8.4873952865601,-8.3193273544312,-8.1512603759766,-7.983193397522,-7.8151259422302,-7.6470584869385,-7.4789915084839,-7.3109245300293,-7.1428570747375,-6.9747896194458,-6.8067226409912,-6.6386556625366,-6.4705882072449,-6.3025207519531,-6.1344537734985,-5.9663863182068,-5.7983193397522,-5.6302518844604,-5.4621849060059,-5.2941174507141,-5.1260504722595,-4.9579830169678,-4.7899160385132,-4.6218485832214,-4.4537816047668,-4.2857141494751,-4.1176471710205,-3.9495797157288,-3.7815127372742,-3.6134452819824,-3.4453783035278,-3.2773108482361,-3.1092438697815,-2.9411764144897,-2.7731094360352,-2.6050419807434,-2.4369750022888,-2.2689075469971,-2.1008405685425,-1.9327726364136,-1.764705657959,-1.5966386795044,-1.4285717010498,-1.2605037689209,-1.0924367904663,-0.92436981201172,-0.75630283355713,-0.58823490142822,-0.42016792297363,-0.25210094451904,-0.084033966064453,0.084033966064453,0.25210094451904,0.42016792297363,0.58823490142822,0.75630283355713,0.92436981201172,1.0924367904663,1.2605037689209,1.4285717010498,1.5966386795044,1.764705657959,1.9327726364136,2.1008405685425,2.2689075469971,2.4369745254517,2.6050424575806,2.7731094360352,2.9411764144897,3.1092433929443,3.2773113250732,3.4453783035278,3.6134452819824,3.781512260437,3.9495801925659,4.1176471710205,4.2857141494751,4.4537811279297,4.6218490600586,4.7899160385132,4.9579830169678,5.1260499954224,5.2941179275513,5.4621849060059,5.6302518844604,5.798318862915,5.9663867950439,6.1344547271729,6.3025207519531,6.470588684082,6.6386547088623,6.8067226409912,6.9747905731201,7.1428565979004,7.3109245300293,7.4789924621582,7.6470584869385,7.8151264190674,7.9831924438477,8.1512603759766,8.3193283081055,8.4873943328857,8.6554622650146,8.8235301971436,8.9915962219238,9.1596641540527,9.327730178833,9.4957981109619,9.6638660430908,9.8319320678711,10]},\"column_names\":[\"x\",\"y\"],\"id\":\"7bf03b80-355e-47ce-c72c-553c23e5e5c0\",\"callback\":null},\"type\":\"ColumnDataSource\",\"id\":\"7bf03b80-355e-47ce-c72c-553c23e5e5c0\"},{\"attributes\":{\"doc\":null,\"line_width\":{\"value\":3},\"id\":\"772bf90b-45be-457f-c5b2-423115078190\",\"tags\":[],\"y\":{\"field\":\"y\"},\"line_color\":{\"value\":\"#ff0000\"},\"line_alpha\":{\"value\":0.3},\"x\":{\"field\":\"x\"}},\"type\":\"Line\",\"id\":\"772bf90b-45be-457f-c5b2-423115078190\"},{\"attributes\":{\"doc\":null,\"data_source\":{\"id\":\"7bf03b80-355e-47ce-c72c-553c23e5e5c0\",\"type\":\"ColumnDataSource\"},\"nonselection_glyph\":null,\"tags\":[],\"id\":\"f8bc102d-1ba7-4cfd-cc52-3af7381fb8b0\",\"glyph\":{\"id\":\"772bf90b-45be-457f-c5b2-423115078190\",\"type\":\"Line\"},\"selection_glyph\":null},\"type\":\"GlyphRenderer\",\"id\":\"f8bc102d-1ba7-4cfd-cc52-3af7381fb8b0\"},{\"attributes\":{\"doc\":null,\"tags\":[],\"legends\":[[\"Normal\",[{\"id\":\"f8bc102d-1ba7-4cfd-cc52-3af7381fb8b0\",\"type\":\"GlyphRenderer\"}]]],\"id\":\"4ab1bb90-70e0-4f33-cf51-64a859e63852\",\"plot\":{\"subtype\":\"Chart\",\"type\":\"Plot\",\"id\":\"ec77d546-faf0-446b-c42a-296ee9cc8557\"}},\"type\":\"Legend\",\"id\":\"4ab1bb90-70e0-4f33-cf51-64a859e63852\"},{\"attributes\":{\"doc\":null,\"selected\":{\"0d\":{\"flag\":false,\"indices\":[]},\"1d\":{\"indices\":[]},\"2d\":{\"indices\":[]}},\"tags\":[],\"data\":{\"size\":[6,6,6,6,6,6,6,6,6,6,6,6,6,6,6,6,6,6,6,6,6,6,6,6,6,6,6,6,6,6,6,6,6,6,6,6,6,6,6,6,6,6,6,6,6,6,6,6,6,6,6,6,6,6,6,6,6,6,6,6,6,6,6,6,6,6,6,6,6,6,6,6,6,6,6,6,6,6,6,6,6,6,6,6,6,6,6,6,6,6,6,6,6,6,6,6,6,6,6,6,6,6,6,6,6,6,6,6,6,6,6,6,6,6,6,6,6,6,6,6],\"y\":[3.9177151106573e-12,9.0140239022984e-12,2.0449048704352e-11,4.5739547566148e-11,1.0087341378862e-10,2.1934536131862e-10,4.7027071126138e-10,9.9410391030119e-10,2.0719614912679e-09,4.2579300085777e-09,8.6274782873375e-09,1.7235853633224e-08,3.3950691147311e-08,6.5937328486143e-08,1.26264282585e-07,2.3839400853376e-07,4.4378870711625e-07,8.1456255429657e-07,1.4741412996955e-06,2.6303830509278e-06,4.6277018554974e-06,8.0274767242372e-06,1.3729629245063e-05,2.3152837457019e-05,3.8496076740557e-05,6.3109509937931e-05,0.00010200936958427,0.0001625737932045,0.00025546317920089,0.00039579646545462,0.00060461956309155,0.00091066444292665,0.001352388295345,0.001980205764994,0.0028588138520718,0.0040693716146052,0.005711309146136,0.0079033244401217,0.010783275589347,0.014506331644952,0.019241157919168,0.025163479149342,0.032447185367346,0.04125240072608,0.051711603999138,0.063913553953171,0.077886909246445,0.093584075570107,0.1108680292964,0.12950205802917,0.14914655685425,0.16936209797859,0.18962070345879,0.20932511985302,0.22783651947975,0.24450719356537,0.25871786475182,0.26991522312164,0.27764809131622,0.28159722685814,0.28159722685814,0.27764809131622,0.26991522312164,0.25871786475182,0.24450719356537,0.22783651947975,0.20932511985302,0.18962070345879,0.16936209797859,0.14914655685425,0.12950205802917,0.1108680292964,0.093584075570107,0.077886909246445,0.063913598656654,0.051711566746235,0.04125240072608,0.032447185367346,0.025163503363729,0.019241139292717,0.014506331644952,0.010783275589347,0.0079033328220248,0.0057113035582006,0.0040693716146052,0.0028588138520718,0.0019802076276392,0.0013523870147765,0.00091066444292665,0.00060461956309155,0.0003957970184274,0.00025546291726641,0.0001625737932045,0.00010200936958427,6.3109575421549e-05,3.8496040360769e-05,2.3152770154411e-05,1.3729629245063e-05,8.027462172322e-06,4.6277195906441e-06,2.6303830509278e-06,1.4741356153536e-06,8.1456408906888e-07,4.4378870711625e-07,2.3839309903906e-07,1.26264282585e-07,6.5937200588451e-08,3.3950819045003e-08,1.7235853633224e-08,8.6274454247359e-09,4.2579459957892e-09,2.0719614912679e-09,9.9410013554291e-10,4.7027071126138e-10,2.1934536131862e-10,1.0087380236667e-10,4.5739547566148e-11,2.0448970641795e-11,9.0140759440027e-12,3.9177151106573e-12],\"x\":[-10,-9.8319330215454,-9.6638650894165,-9.4957981109619,-9.3277311325073,-9.1596641540527,-8.9915962219238,-8.8235292434692,-8.6554622650146,-8.4873952865601,-8.3193273544312,-8.1512603759766,-7.983193397522,-7.8151259422302,-7.6470584869385,-7.4789915084839,-7.3109245300293,-7.1428570747375,-6.9747896194458,-6.8067226409912,-6.6386556625366,-6.4705882072449,-6.3025207519531,-6.1344537734985,-5.9663863182068,-5.7983193397522,-5.6302518844604,-5.4621849060059,-5.2941174507141,-5.1260504722595,-4.9579830169678,-4.7899160385132,-4.6218485832214,-4.4537816047668,-4.2857141494751,-4.1176471710205,-3.9495797157288,-3.7815127372742,-3.6134452819824,-3.4453783035278,-3.2773108482361,-3.1092438697815,-2.9411764144897,-2.7731094360352,-2.6050419807434,-2.4369750022888,-2.2689075469971,-2.1008405685425,-1.9327726364136,-1.764705657959,-1.5966386795044,-1.4285717010498,-1.2605037689209,-1.0924367904663,-0.92436981201172,-0.75630283355713,-0.58823490142822,-0.42016792297363,-0.25210094451904,-0.084033966064453,0.084033966064453,0.25210094451904,0.42016792297363,0.58823490142822,0.75630283355713,0.92436981201172,1.0924367904663,1.2605037689209,1.4285717010498,1.5966386795044,1.764705657959,1.9327726364136,2.1008405685425,2.2689075469971,2.4369745254517,2.6050424575806,2.7731094360352,2.9411764144897,3.1092433929443,3.2773113250732,3.4453783035278,3.6134452819824,3.781512260437,3.9495801925659,4.1176471710205,4.2857141494751,4.4537811279297,4.6218490600586,4.7899160385132,4.9579830169678,5.1260499954224,5.2941179275513,5.4621849060059,5.6302518844604,5.798318862915,5.9663867950439,6.1344547271729,6.3025207519531,6.470588684082,6.6386547088623,6.8067226409912,6.9747905731201,7.1428565979004,7.3109245300293,7.4789924621582,7.6470584869385,7.8151264190674,7.9831924438477,8.1512603759766,8.3193283081055,8.4873943328857,8.6554622650146,8.8235301971436,8.9915962219238,9.1596641540527,9.327730178833,9.4957981109619,9.6638660430908,9.8319320678711,10],\"fill_alpha\":[0.8,0.8,0.8,0.8,0.8,0.8,0.8,0.8,0.8,0.8,0.8,0.8,0.8,0.8,0.8,0.8,0.8,0.8,0.8,0.8,0.8,0.8,0.8,0.8,0.8,0.8,0.8,0.8,0.8,0.8,0.8,0.8,0.8,0.8,0.8,0.8,0.8,0.8,0.8,0.8,0.8,0.8,0.8,0.8,0.8,0.8,0.8,0.8,0.8,0.8,0.8,0.8,0.8,0.8,0.8,0.8,0.8,0.8,0.8,0.8,0.8,0.8,0.8,0.8,0.8,0.8,0.8,0.8,0.8,0.8,0.8,0.8,0.8,0.8,0.8,0.8,0.8,0.8,0.8,0.8,0.8,0.8,0.8,0.8,0.8,0.8,0.8,0.8,0.8,0.8,0.8,0.8,0.8,0.8,0.8,0.8,0.8,0.8,0.8,0.8,0.8,0.8,0.8,0.8,0.8,0.8,0.8,0.8,0.8,0.8,0.8,0.8,0.8,0.8,0.8,0.8,0.8,0.8,0.8,0.8],\"color\":[\"#ff0000\",\"#ff0000\",\"#ff0000\",\"#ff0000\",\"#ff0000\",\"#ff0000\",\"#ff0000\",\"#ff0000\",\"#ff0000\",\"#ff0000\",\"#ff0000\",\"#ff0000\",\"#ff0000\",\"#ff0000\",\"#ff0000\",\"#ff0000\",\"#ff0000\",\"#ff0000\",\"#ff0000\",\"#ff0000\",\"#ff0000\",\"#ff0000\",\"#ff0000\",\"#ff0000\",\"#ff0000\",\"#ff0000\",\"#ff0000\",\"#ff0000\",\"#ff0000\",\"#ff0000\",\"#ff0000\",\"#ff0000\",\"#ff0000\",\"#ff0000\",\"#ff0000\",\"#ff0000\",\"#ff0000\",\"#ff0000\",\"#ff0000\",\"#ff0000\",\"#ff0000\",\"#ff0000\",\"#ff0000\",\"#ff0000\",\"#ff0000\",\"#ff0000\",\"#ff0000\",\"#ff0000\",\"#ff0000\",\"#ff0000\",\"#ff0000\",\"#ff0000\",\"#ff0000\",\"#ff0000\",\"#ff0000\",\"#ff0000\",\"#ff0000\",\"#ff0000\",\"#ff0000\",\"#ff0000\",\"#ff0000\",\"#ff0000\",\"#ff0000\",\"#ff0000\",\"#ff0000\",\"#ff0000\",\"#ff0000\",\"#ff0000\",\"#ff0000\",\"#ff0000\",\"#ff0000\",\"#ff0000\",\"#ff0000\",\"#ff0000\",\"#ff0000\",\"#ff0000\",\"#ff0000\",\"#ff0000\",\"#ff0000\",\"#ff0000\",\"#ff0000\",\"#ff0000\",\"#ff0000\",\"#ff0000\",\"#ff0000\",\"#ff0000\",\"#ff0000\",\"#ff0000\",\"#ff0000\",\"#ff0000\",\"#ff0000\",\"#ff0000\",\"#ff0000\",\"#ff0000\",\"#ff0000\",\"#ff0000\",\"#ff0000\",\"#ff0000\",\"#ff0000\",\"#ff0000\",\"#ff0000\",\"#ff0000\",\"#ff0000\",\"#ff0000\",\"#ff0000\",\"#ff0000\",\"#ff0000\",\"#ff0000\",\"#ff0000\",\"#ff0000\",\"#ff0000\",\"#ff0000\",\"#ff0000\",\"#ff0000\",\"#ff0000\",\"#ff0000\",\"#ff0000\",\"#ff0000\",\"#ff0000\",\"#ff0000\"]},\"column_names\":[\"x\",\"y\",\"fill_alpha\",\"color\",\"size\"],\"id\":\"a3497fbe-f17c-4cc6-ccf6-bd071676b760\",\"callback\":null},\"type\":\"ColumnDataSource\",\"id\":\"a3497fbe-f17c-4cc6-ccf6-bd071676b760\"},{\"attributes\":{\"doc\":null,\"id\":\"2873f198-5300-4ce6-cc30-8eac16c7feba\",\"y\":{\"field\":\"y\"},\"tags\":[],\"fill_alpha\":{\"field\":\"fill_alpha\"},\"size\":{\"field\":\"size\"},\"x\":{\"field\":\"x\"},\"fill_color\":{\"field\":\"color\"}},\"type\":\"Circle\",\"id\":\"2873f198-5300-4ce6-cc30-8eac16c7feba\"},{\"attributes\":{\"doc\":null,\"data_source\":{\"id\":\"a3497fbe-f17c-4cc6-ccf6-bd071676b760\",\"type\":\"ColumnDataSource\"},\"nonselection_glyph\":null,\"tags\":[],\"id\":\"107e7801-fa35-47ca-c785-d141fb89a224\",\"glyph\":{\"id\":\"2873f198-5300-4ce6-cc30-8eac16c7feba\",\"type\":\"Circle\"},\"selection_glyph\":null},\"type\":\"GlyphRenderer\",\"id\":\"107e7801-fa35-47ca-c785-d141fb89a224\"},{\"attributes\":{\"doc\":null,\"end\":11,\"callback\":null,\"tags\":[],\"id\":\"0f039f0a-3867-4464-c4a6-a6e82f490d2c\",\"start\":-11},\"type\":\"Range1d\",\"id\":\"0f039f0a-3867-4464-c4a6-a6e82f490d2c\"},{\"attributes\":{\"doc\":null,\"end\":0.29567708820095,\"callback\":null,\"tags\":[],\"id\":\"ddca7c71-53b3-470c-c7e9-dd057a68a389\",\"start\":-0.01407986134085},\"type\":\"Range1d\",\"id\":\"ddca7c71-53b3-470c-c7e9-dd057a68a389\"}];\n",
        "\n",
        "  if(typeof(Bokeh) !== \"undefined\") {\n",
        "    console.log(\"Bokeh: BokehJS loaded, going straight to plotting\");\n",
        "    Bokeh.embed.inject_plot(\"fc93bc50-9489-46e6-c6c5-92d08c908a9d\", all_models);\n",
        "  } else {\n",
        "    load_lib(bokehjs_url, function() {\n",
        "      console.log(\"Bokeh: BokehJS plotting callback run at\", new Date())\n",
        "      Bokeh.embed.inject_plot(\"fc93bc50-9489-46e6-c6c5-92d08c908a9d\", all_models);\n",
        "    });\n",
        "  }\n",
        "\n",
        "}(this));\n",
        "</script>\n"
       ],
       "metadata": {},
       "output_type": "pyout",
       "prompt_number": 11,
       "text": [
        "-- impossible to show ASCII art plots"
       ]
      }
     ],
     "prompt_number": 11
    }
   ],
   "metadata": {}
  }
 ]
}