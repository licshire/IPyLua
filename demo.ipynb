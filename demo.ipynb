{
 "metadata": {
  "name": "",
  "signature": "sha256:d28d6ae250b8931e72a9d45ef6a87048d5e06c278d6230aff902421699106513"
 },
 "nbformat": 3,
 "nbformat_minor": 0,
 "worksheets": [
  {
   "cells": [
    {
     "cell_type": "heading",
     "level": 1,
     "metadata": {},
     "source": [
      "Demo for IPyLua"
     ]
    },
    {
     "cell_type": "markdown",
     "metadata": {},
     "source": [
      "You can declare multi-line functions using the Notebook or the qtconsole with ctrl+intro."
     ]
    },
    {
     "cell_type": "code",
     "collapsed": false,
     "input": [
      "function fib(n)\n",
      "  if n <= 2 then return 1 end\n",
      "  return fib(n-1) + fib(n-2)\n",
      "end"
     ],
     "language": "python",
     "metadata": {},
     "outputs": [],
     "prompt_number": 1
    },
    {
     "cell_type": "code",
     "collapsed": false,
     "input": [
      "for i=1,10 do print(\"fib(\"..i..\") =\",fib(i)) end"
     ],
     "language": "python",
     "metadata": {},
     "outputs": [
      {
       "metadata": {},
       "output_type": "pyout",
       "prompt_number": 2,
       "text": [
        "fib(1) =\t1\n"
       ]
      },
      {
       "metadata": {},
       "output_type": "pyout",
       "prompt_number": 2,
       "text": [
        "fib(2) =\t1\n"
       ]
      },
      {
       "metadata": {},
       "output_type": "pyout",
       "prompt_number": 2,
       "text": [
        "fib(3) =\t2\n"
       ]
      },
      {
       "metadata": {},
       "output_type": "pyout",
       "prompt_number": 2,
       "text": [
        "fib(4) =\t3\n"
       ]
      },
      {
       "metadata": {},
       "output_type": "pyout",
       "prompt_number": 2,
       "text": [
        "fib(5) =\t5\n"
       ]
      },
      {
       "metadata": {},
       "output_type": "pyout",
       "prompt_number": 2,
       "text": [
        "fib(6) =\t8\n"
       ]
      },
      {
       "metadata": {},
       "output_type": "pyout",
       "prompt_number": 2,
       "text": [
        "fib(7) =\t13\n"
       ]
      },
      {
       "metadata": {},
       "output_type": "pyout",
       "prompt_number": 2,
       "text": [
        "fib(8) =\t21\n"
       ]
      },
      {
       "metadata": {},
       "output_type": "pyout",
       "prompt_number": 2,
       "text": [
        "fib(9) =\t34\n"
       ]
      },
      {
       "metadata": {},
       "output_type": "pyout",
       "prompt_number": 2,
       "text": [
        "fib(10) =\t55\n"
       ]
      }
     ],
     "prompt_number": 2
    },
    {
     "cell_type": "markdown",
     "metadata": {},
     "source": [
      "It is possible to declare tables as usual."
     ]
    },
    {
     "cell_type": "code",
     "collapsed": false,
     "input": [
      "tbl = {\n",
      "  a = 1,\n",
      "  b = 2,\n",
      "  \"Hello\", \"World\", \"!\"\n",
      "}"
     ],
     "language": "python",
     "metadata": {},
     "outputs": [],
     "prompt_number": 3
    },
    {
     "cell_type": "markdown",
     "metadata": {},
     "source": [
      "And the table can be shown as the following one."
     ]
    },
    {
     "cell_type": "code",
     "collapsed": false,
     "input": [
      "print(tbl)"
     ],
     "language": "python",
     "metadata": {},
     "outputs": [
      {
       "metadata": {},
       "output_type": "pyout",
       "prompt_number": 4,
       "text": [
        "\t[1] = \"Hello\",\n",
        "\t[2] = \"World\",\n",
        "\t[3] = \"!\",\n",
        "\t[\"a\"] = 1,\n",
        "\t[\"b\"] = 2,\n",
        "# table: 0x1517d50 with 3 array part, 2 hash part\n"
       ]
      }
     ],
     "prompt_number": 4
    },
    {
     "cell_type": "markdown",
     "metadata": {},
     "source": [
      "The function `vars()` allow shows all the variables declared by the user (global variables)."
     ]
    },
    {
     "cell_type": "code",
     "collapsed": false,
     "input": [
      "vars()"
     ],
     "language": "python",
     "metadata": {},
     "outputs": [
      {
       "metadata": {},
       "output_type": "pyout",
       "prompt_number": 5,
       "text": [
        "\t[\"fib\"] = function: 0x15149d0,\n",
        "\t[\"tbl\"] = table: 0x1517d50,\n",
        "# table: 0x14dfd40 with 0 array part, 2 hash part\n"
       ]
      }
     ],
     "prompt_number": 5
    }
   ],
   "metadata": {}
  }
 ]
}