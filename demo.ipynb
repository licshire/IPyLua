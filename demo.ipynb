{
 "metadata": {
  "language": "lua",
  "name": "",
  "signature": "sha256:cd7ea4a9789fc9292bf997cd8d79c21cce628d8c8d5244d253e7ccfda5bcf82e"
 },
 "nbformat": 3,
 "nbformat_minor": 0,
 "worksheets": [
  {
   "cells": [
    {
     "cell_type": "heading",
     "level": 1,
     "metadata": {},
     "source": [
      "Demo for IPyLua"
     ]
    },
    {
     "cell_type": "markdown",
     "metadata": {},
     "source": [
      "You can declare multi-line functions using the Notebook or the qtconsole with ctrl+intro."
     ]
    },
    {
     "cell_type": "code",
     "collapsed": false,
     "input": [
      "function fib(n)\n",
      "  if n <= 2 then return 1 end\n",
      "  return fib(n-1) + fib(n-2)\n",
      "end"
     ],
     "language": "python",
     "metadata": {},
     "outputs": [],
     "prompt_number": 1
    },
    {
     "cell_type": "code",
     "collapsed": false,
     "input": [
      "for i=1,10 do print(\"fib(\"..i..\") =\",fib(i)) end"
     ],
     "language": "python",
     "metadata": {},
     "outputs": [
      {
       "metadata": {},
       "output_type": "pyout",
       "prompt_number": 2,
       "text": [
        "fib(1) =\t1\n"
       ]
      },
      {
       "metadata": {},
       "output_type": "pyout",
       "prompt_number": 2,
       "text": [
        "fib(2) =\t1\n"
       ]
      },
      {
       "metadata": {},
       "output_type": "pyout",
       "prompt_number": 2,
       "text": [
        "fib(3) =\t2\n"
       ]
      },
      {
       "metadata": {},
       "output_type": "pyout",
       "prompt_number": 2,
       "text": [
        "fib(4) =\t3\n"
       ]
      },
      {
       "metadata": {},
       "output_type": "pyout",
       "prompt_number": 2,
       "text": [
        "fib(5) =\t5\n"
       ]
      },
      {
       "metadata": {},
       "output_type": "pyout",
       "prompt_number": 2,
       "text": [
        "fib(6) =\t8\n"
       ]
      },
      {
       "metadata": {},
       "output_type": "pyout",
       "prompt_number": 2,
       "text": [
        "fib(7) =\t13\n"
       ]
      },
      {
       "metadata": {},
       "output_type": "pyout",
       "prompt_number": 2,
       "text": [
        "fib(8) =\t21\n"
       ]
      },
      {
       "metadata": {},
       "output_type": "pyout",
       "prompt_number": 2,
       "text": [
        "fib(9) =\t34\n"
       ]
      },
      {
       "metadata": {},
       "output_type": "pyout",
       "prompt_number": 2,
       "text": [
        "fib(10) =\t55\n"
       ]
      }
     ],
     "prompt_number": 2
    },
    {
     "cell_type": "markdown",
     "metadata": {},
     "source": [
      "It is possible to declare tables as usual."
     ]
    },
    {
     "cell_type": "code",
     "collapsed": false,
     "input": [
      "tbl = {\n",
      "  a = 1,\n",
      "  b = 2,\n",
      "  \"Hello\", \"World\", \"!\"\n",
      "}"
     ],
     "language": "python",
     "metadata": {},
     "outputs": [],
     "prompt_number": 3
    },
    {
     "cell_type": "markdown",
     "metadata": {},
     "source": [
      "And the table can be shown as usual or using the fancy `show()` command."
     ]
    },
    {
     "cell_type": "code",
     "collapsed": false,
     "input": [
      "print(tbl)\n",
      "show(tbl)"
     ],
     "language": "python",
     "metadata": {},
     "outputs": [
      {
       "metadata": {},
       "output_type": "pyout",
       "prompt_number": 12,
       "text": [
        "table: 0x13059f0\n"
       ]
      },
      {
       "html": [
        "<pre id=\"ipylua_static_code\">{\n",
        "\t[1] = \"Hello\",\n",
        "\t[2] = \"World\",\n",
        "\t[3] = \"!\",\n",
        "\t[\"a\"] = 1,\n",
        "\t[\"b\"] = 2,\n",
        "}\n",
        "-- table: 0x13059f0 with 3 array part, 2 hash part</pre>"
       ],
       "metadata": {},
       "output_type": "pyout",
       "prompt_number": 12,
       "text": [
        "{\n",
        "\t[1] = \"Hello\",\n",
        "\t[2] = \"World\",\n",
        "\t[3] = \"!\",\n",
        "\t[\"a\"] = 1,\n",
        "\t[\"b\"] = 2,\n",
        "}\n",
        "-- table: 0x13059f0 with 3 array part, 2 hash part\n"
       ]
      }
     ],
     "prompt_number": 12
    },
    {
     "cell_type": "markdown",
     "metadata": {},
     "source": [
      "You can even show multiple objects by columns because `show()` accepts a variable number of arguments."
     ]
    },
    {
     "cell_type": "code",
     "collapsed": false,
     "input": [
      "show(tbl, {1,2,3,4})"
     ],
     "language": "python",
     "metadata": {},
     "outputs": [
      {
       "html": [
        "<div><div style=\"float:left;margin:4px;\"><pre id=\"ipylua_static_code\">{\n",
        "\t[1] = \"Hello\",\n",
        "\t[2] = \"World\",\n",
        "\t[3] = \"!\",\n",
        "\t[\"a\"] = 1,\n",
        "\t[\"b\"] = 2,\n",
        "}\n",
        "-- table: 0x13059f0 with 3 array part, 2 hash part</pre></div><div style=\"float:left;margin:4px;\"><pre id=\"ipylua_static_code\">{\n",
        "\t[1] = 1,\n",
        "\t[2] = 2,\n",
        "\t[3] = 3,\n",
        "\t[4] = 4,\n",
        "}\n",
        "-- table: 0x13d6650 with 4 array part, 0 hash part</pre></div></div>"
       ],
       "metadata": {},
       "output_type": "pyout",
       "prompt_number": 13,
       "text": [
        "table: 0x13059f0\ttable: 0x13d6650\n"
       ]
      }
     ],
     "prompt_number": 13
    },
    {
     "cell_type": "markdown",
     "metadata": {},
     "source": [
      "The function `vars()` allow shows all the variables declared by the user (global variables)."
     ]
    },
    {
     "cell_type": "code",
     "collapsed": false,
     "input": [
      "vars()"
     ],
     "language": "python",
     "metadata": {},
     "outputs": [
      {
       "html": [
        "<pre id=\"ipylua_static_code\">{\n",
        "\t[\"fib\"] = function: 0x1363070,\n",
        "\t[\"tbl\"] = table: 0x13059f0,\n",
        "\t[\"x\"] = matrix,\n",
        "}\n",
        "-- table: 0x1347d30 with 0 array part, 3 hash part</pre>"
       ],
       "metadata": {},
       "output_type": "pyout",
       "prompt_number": 14,
       "text": [
        "{\n",
        "\t[\"fib\"] = function: 0x1363070,\n",
        "\t[\"tbl\"] = table: 0x13059f0,\n",
        "\t[\"x\"] = matrix,\n",
        "}\n",
        "-- table: 0x1347d30 with 0 array part, 3 hash part\n"
       ]
      }
     ],
     "prompt_number": 14
    },
    {
     "cell_type": "markdown",
     "metadata": {},
     "source": [
      "APRIL-ANN, a toolkit for pattern recognition tasks, has been connected with IPyLua and it is possible to show matrices, images and plots."
     ]
    },
    {
     "cell_type": "code",
     "collapsed": false,
     "input": [
      "require \"aprilann\"\n",
      "x = matrix(300,300):linspace(0,0.5)\n",
      "x = x + x:t()\n",
      "x_img = Image(x)\n",
      "show(x_img, x)"
     ],
     "language": "python",
     "metadata": {},
     "outputs": [
      {
       "html": [
        "<div><div style=\"float:left;margin:4px;\"><img src=\"data:image/png;base64,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\"></div><div style=\"float:left;margin:4px;\"><pre> 0             0.00167224    0.00334448    0.00501672   ...  0.5         \n",
        " 0.00167224    0.00334448    0.00501672    0.00668896   ...  0.501672    \n",
        " 0.00334448    0.00501672    0.00668896    0.0083612    ...  0.503344    \n",
        " 0.00501672    0.00668896    0.0083612     0.0100334    ...  0.505017    \n",
        " 0.00668896    0.0083612     0.0100334     0.0117057    ...  0.506689    \n",
        "...\n",
        " 0.5           0.501672      0.503344      0.505017     ...  1           \n",
        "# Matrix of size [300,300] stride [300,1] ref [0x1622820 data= 0x16b0a00]\n",
        "</pre></div></div>"
       ],
       "metadata": {},
       "output_type": "pyout",
       "prompt_number": 26,
       "text": [
        "# Image 300x300+0+0 [0x1516170 data= 0x1607c60]\tmatrix\n"
       ]
      }
     ],
     "prompt_number": 26
    }
   ],
   "metadata": {}
  }
 ]
}